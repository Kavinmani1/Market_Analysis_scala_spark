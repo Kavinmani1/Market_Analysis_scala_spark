{
 "cells": [
  {
   "cell_type": "code",
   "execution_count": 1,
   "id": "a68cbc58",
   "metadata": {},
   "outputs": [],
   "source": [
    "from pyspark.sql import SparkSession"
   ]
  },
  {
   "cell_type": "code",
   "execution_count": 2,
   "id": "b4b047ca",
   "metadata": {},
   "outputs": [],
   "source": [
    "spark = SparkSession.builder \\\n",
    "      .master(\"local[1]\") \\\n",
    "      .appName(\"capstone\") \\\n",
    "      .getOrCreate() "
   ]
  },
  {
   "cell_type": "code",
   "execution_count": 3,
   "id": "be55a812",
   "metadata": {},
   "outputs": [
    {
     "name": "stdout",
     "output_type": "stream",
     "text": [
      "root\n",
      " |-- age: string (nullable = true)\n",
      " |-- job: string (nullable = true)\n",
      " |-- marital: string (nullable = true)\n",
      " |-- education: string (nullable = true)\n",
      " |-- default: string (nullable = true)\n",
      " |-- balance: string (nullable = true)\n",
      " |-- housing: string (nullable = true)\n",
      " |-- loan: string (nullable = true)\n",
      " |-- contact: string (nullable = true)\n",
      " |-- day: string (nullable = true)\n",
      " |-- month: string (nullable = true)\n",
      " |-- duration: string (nullable = true)\n",
      " |-- campaign: string (nullable = true)\n",
      " |-- pdays: string (nullable = true)\n",
      " |-- previous: string (nullable = true)\n",
      " |-- poutcome: string (nullable = true)\n",
      " |-- y: string (nullable = true)\n",
      "\n"
     ]
    }
   ],
   "source": [
    "rawdf = spark.read.csv(\"Capstone market analysis (4).csv\",header = True)\n",
    "rawdf.printSchema()"
   ]
  },
  {
   "cell_type": "code",
   "execution_count": 4,
   "id": "2d2c9946",
   "metadata": {},
   "outputs": [
    {
     "name": "stdout",
     "output_type": "stream",
     "text": [
      "+---+------------+--------+---------+-------+-------+-------+----+-------+---+-----+--------+--------+-----+--------+--------+---+\n",
      "|age|         job| marital|education|default|balance|housing|loan|contact|day|month|duration|campaign|pdays|previous|poutcome|  y|\n",
      "+---+------------+--------+---------+-------+-------+-------+----+-------+---+-----+--------+--------+-----+--------+--------+---+\n",
      "| 58|  management| married| tertiary|     no|   2143|    yes|  no|unknown|  5|  may|     261|       1|   -1|       0| unknown| no|\n",
      "| 44|  technician|  single|secondary|     no|     29|    yes|  no|unknown|  5|  may|     151|       1|   -1|       0| unknown| no|\n",
      "| 33|entrepreneur| married|secondary|     no|      2|    yes| yes|unknown|  5|  may|      76|       1|   -1|       0| unknown| no|\n",
      "| 47| blue-collar| married|  unknown|     no|   1506|    yes|  no|unknown|  5|  may|      92|       1|   -1|       0| unknown| no|\n",
      "| 33|     unknown|  single|  unknown|     no|      1|     no|  no|unknown|  5|  may|     198|       1|   -1|       0| unknown| no|\n",
      "| 35|  management| married| tertiary|     no|    231|    yes|  no|unknown|  5|  may|     139|       1|   -1|       0| unknown| no|\n",
      "| 28|  management|  single| tertiary|     no|    447|    yes| yes|unknown|  5|  may|     217|       1|   -1|       0| unknown| no|\n",
      "| 42|entrepreneur|divorced| tertiary|    yes|      2|    yes|  no|unknown|  5|  may|     380|       1|   -1|       0| unknown| no|\n",
      "| 58|     retired| married|  primary|     no|    121|    yes|  no|unknown|  5|  may|      50|       1|   -1|       0| unknown| no|\n",
      "| 43|  technician|  single|secondary|     no|    593|    yes|  no|unknown|  5|  may|      55|       1|   -1|       0| unknown| no|\n",
      "| 41|      admin.|divorced|secondary|     no|    270|    yes|  no|unknown|  5|  may|     222|       1|   -1|       0| unknown| no|\n",
      "| 29|      admin.|  single|secondary|     no|    390|    yes|  no|unknown|  5|  may|     137|       1|   -1|       0| unknown| no|\n",
      "| 53|  technician| married|secondary|     no|      6|    yes|  no|unknown|  5|  may|     517|       1|   -1|       0| unknown| no|\n",
      "| 58|  technician| married|  unknown|     no|     71|    yes|  no|unknown|  5|  may|      71|       1|   -1|       0| unknown| no|\n",
      "| 57|    services| married|secondary|     no|    162|    yes|  no|unknown|  5|  may|     174|       1|   -1|       0| unknown| no|\n",
      "| 51|     retired| married|  primary|     no|    229|    yes|  no|unknown|  5|  may|     353|       1|   -1|       0| unknown| no|\n",
      "| 45|      admin.|  single|  unknown|     no|     13|    yes|  no|unknown|  5|  may|      98|       1|   -1|       0| unknown| no|\n",
      "| 57| blue-collar| married|  primary|     no|     52|    yes|  no|unknown|  5|  may|      38|       1|   -1|       0| unknown| no|\n",
      "| 60|     retired| married|  primary|     no|     60|    yes|  no|unknown|  5|  may|     219|       1|   -1|       0| unknown| no|\n",
      "| 33|    services| married|secondary|     no|      0|    yes|  no|unknown|  5|  may|      54|       1|   -1|       0| unknown| no|\n",
      "+---+------------+--------+---------+-------+-------+-------+----+-------+---+-----+--------+--------+-----+--------+--------+---+\n",
      "only showing top 20 rows\n",
      "\n"
     ]
    }
   ],
   "source": [
    "rawdf.show()"
   ]
  },
  {
   "cell_type": "code",
   "execution_count": 5,
   "id": "9b5282d4",
   "metadata": {},
   "outputs": [],
   "source": [
    " rawdf.createTempView(\"tempbank\")"
   ]
  },
  {
   "cell_type": "code",
   "execution_count": 6,
   "id": "f68985cc",
   "metadata": {},
   "outputs": [
    {
     "name": "stdout",
     "output_type": "stream",
     "text": [
      "+----------------------+\n",
      "|marketing_success_rate|\n",
      "+----------------------+\n",
      "|    11.698480458295547|\n",
      "+----------------------+\n",
      "\n"
     ]
    }
   ],
   "source": [
    "success = spark.sql(\"select (subscribed/total)*100 as marketing_success_rate from (select count(*) as subscribed from tempbank where y = 'yes') , (select count (*) as total from tempbank)\").show()"
   ]
  },
  {
   "cell_type": "code",
   "execution_count": 7,
   "id": "040f8f98",
   "metadata": {},
   "outputs": [
    {
     "name": "stdout",
     "output_type": "stream",
     "text": [
      "+----------------------+\n",
      "|marketing_failure_rate|\n",
      "+----------------------+\n",
      "|     88.30151954170445|\n",
      "+----------------------+\n",
      "\n"
     ]
    }
   ],
   "source": [
    "failure = spark.sql(\"select (not_subscribed/total)*100 as marketing_failure_rate from (select count(*) as not_subscribed from tempbank where y = 'no') , (select count (*) as total from tempbank)\").show()        "
   ]
  },
  {
   "cell_type": "code",
   "execution_count": 8,
   "id": "b5c085b3",
   "metadata": {},
   "outputs": [
    {
     "name": "stdout",
     "output_type": "stream",
     "text": [
      "+--------+\n",
      "|max(age)|\n",
      "+--------+\n",
      "|      95|\n",
      "+--------+\n",
      "\n",
      "+--------+\n",
      "|min(age)|\n",
      "+--------+\n",
      "|      18|\n",
      "+--------+\n",
      "\n",
      "+-----------------+\n",
      "|         avg(age)|\n",
      "+-----------------+\n",
      "|40.93621021432837|\n",
      "+-----------------+\n",
      "\n"
     ]
    }
   ],
   "source": [
    "max_age=spark.sql(\"select max(age) from tempbank\").show()\n",
    "min_age=spark.sql(\"select min(age) from tempbank\").show()\n",
    "average_age=spark.sql(\"select avg(age) from tempbank\").show()\n"
   ]
  },
  {
   "cell_type": "code",
   "execution_count": 9,
   "id": "d3358d1c",
   "metadata": {},
   "outputs": [
    {
     "name": "stdout",
     "output_type": "stream",
     "text": [
      "+------------------+\n",
      "|      avg(balance)|\n",
      "+------------------+\n",
      "|1362.2720576850766|\n",
      "+------------------+\n",
      "\n"
     ]
    }
   ],
   "source": [
    "average_balance=spark.sql(\"select avg(balance) from tempbank\").show()"
   ]
  },
  {
   "cell_type": "code",
   "execution_count": 10,
   "id": "8c5ad69a",
   "metadata": {},
   "outputs": [
    {
     "name": "stdout",
     "output_type": "stream",
     "text": [
      "+--------------------------------------+\n",
      "|percentile_approx(balance, 0.5, 10000)|\n",
      "+--------------------------------------+\n",
      "|                                 448.0|\n",
      "+--------------------------------------+\n",
      "\n"
     ]
    }
   ],
   "source": [
    "median = spark.sql(\"select percentile_approx(balance, 0.5) from tempbank\").show()"
   ]
  },
  {
   "cell_type": "code",
   "execution_count": 39,
   "id": "6145ff3b",
   "metadata": {},
   "outputs": [
    {
     "name": "stdout",
     "output_type": "stream",
     "text": [
      "+---+------+\n",
      "|age|number|\n",
      "+---+------+\n",
      "| 51|    77|\n",
      "| 54|    84|\n",
      "| 29|   171|\n",
      "| 69|    17|\n",
      "| 42|   111|\n",
      "| 73|    24|\n",
      "| 87|     3|\n",
      "| 64|    35|\n",
      "| 30|   217|\n",
      "| 34|   198|\n",
      "| 59|    88|\n",
      "| 28|   162|\n",
      "| 22|    40|\n",
      "| 85|     4|\n",
      "| 35|   209|\n",
      "| 52|    85|\n",
      "| 71|    25|\n",
      "| 47|   113|\n",
      "| 43|   103|\n",
      "| 31|   206|\n",
      "+---+------+\n",
      "only showing top 20 rows\n",
      "\n"
     ]
    }
   ],
   "source": [
    "age = spark.sql(\"select age, count(*) as number from tempbank where y='yes' group by age \")\n",
    "age.show()\n",
    "age.createOrReplaceTempView(\"temp9\")"
   ]
  },
  {
   "cell_type": "code",
   "execution_count": 37,
   "id": "44599abe",
   "metadata": {},
   "outputs": [
    {
     "name": "stdout",
     "output_type": "stream",
     "text": [
      "+---+------+\n",
      "|age|number|\n",
      "+---+------+\n",
      "| 51|   936|\n",
      "| 54|   811|\n",
      "| 29|  1185|\n",
      "| 69|    44|\n",
      "| 42|  1242|\n",
      "| 73|    44|\n",
      "| 87|     4|\n",
      "| 64|    74|\n",
      "| 30|  1757|\n",
      "| 34|  1930|\n",
      "| 59|   770|\n",
      "| 28|  1038|\n",
      "| 22|   129|\n",
      "| 85|     5|\n",
      "| 35|  1894|\n",
      "| 52|   911|\n",
      "| 71|    54|\n",
      "| 47|  1088|\n",
      "| 43|  1161|\n",
      "| 31|  1996|\n",
      "+---+------+\n",
      "only showing top 20 rows\n",
      "\n"
     ]
    }
   ],
   "source": [
    "age_total = spark.sql(\"select age, count(*) as number from tempbank where group by age \")\n",
    "age_total.show()\n",
    "age_total.createOrReplaceTempView(\"temp8\")"
   ]
  },
  {
   "cell_type": "code",
   "execution_count": 38,
   "id": "ea263639",
   "metadata": {},
   "outputs": [
    {
     "name": "stdout",
     "output_type": "stream",
     "text": [
      "+---+-------------------+\n",
      "|age|  (number / number)|\n",
      "+---+-------------------+\n",
      "| 51|0.08226495726495726|\n",
      "| 54|0.10357583230579531|\n",
      "| 29|0.14430379746835442|\n",
      "| 69|0.38636363636363635|\n",
      "| 42| 0.0893719806763285|\n",
      "| 73| 0.5454545454545454|\n",
      "| 87|               0.75|\n",
      "| 64|0.47297297297297297|\n",
      "| 30|0.12350597609561753|\n",
      "| 34|0.10259067357512953|\n",
      "| 59|0.11428571428571428|\n",
      "| 28|0.15606936416184972|\n",
      "| 22|0.31007751937984496|\n",
      "| 85|                0.8|\n",
      "| 35|0.11034846884899684|\n",
      "| 52|0.09330406147091108|\n",
      "| 71|0.46296296296296297|\n",
      "| 47|0.10386029411764706|\n",
      "| 43|0.08871662360034453|\n",
      "| 31|0.10320641282565131|\n",
      "+---+-------------------+\n",
      "only showing top 20 rows\n",
      "\n"
     ]
    }
   ],
   "source": [
    "df11 = spark.sql(\"select a.age,a.number/b.number from temp9 a left join temp8 b  on a.age = b.age\")\n",
    "df11.show()"
   ]
  },
  {
   "cell_type": "code",
   "execution_count": 30,
   "id": "eb2344aa",
   "metadata": {},
   "outputs": [
    {
     "name": "stdout",
     "output_type": "stream",
     "text": [
      "+--------+------+\n",
      "| marital|number|\n",
      "+--------+------+\n",
      "| married|  2755|\n",
      "|  single|  1912|\n",
      "|divorced|   622|\n",
      "+--------+------+\n",
      "\n"
     ]
    }
   ],
   "source": [
    "marital = spark.sql(\"select marital, count(*) as number from tempbank where y='yes' group by marital order by number desc\")\n",
    "marital.show()\n",
    "marital.createOrReplaceTempView(\"temp7\")"
   ]
  },
  {
   "cell_type": "code",
   "execution_count": 31,
   "id": "2af9c41b",
   "metadata": {},
   "outputs": [
    {
     "name": "stdout",
     "output_type": "stream",
     "text": [
      "+--------+------+\n",
      "| marital|number|\n",
      "+--------+------+\n",
      "| married| 27214|\n",
      "|  single| 12790|\n",
      "|divorced|  5207|\n",
      "+--------+------+\n",
      "\n"
     ]
    }
   ],
   "source": [
    "marital_total = spark.sql(\"select marital, count(*) as number from tempbank group by marital order by number desc\")\n",
    "marital_total.show()\n",
    "marital_total.createOrReplaceTempView(\"temp6\")"
   ]
  },
  {
   "cell_type": "code",
   "execution_count": 32,
   "id": "d4b58459",
   "metadata": {},
   "outputs": [
    {
     "name": "stdout",
     "output_type": "stream",
     "text": [
      "+--------+-------------------+\n",
      "| marital|  (number / number)|\n",
      "+--------+-------------------+\n",
      "| married|0.10123465863158668|\n",
      "|  single| 0.1494917904612979|\n",
      "|divorced|0.11945458037257538|\n",
      "+--------+-------------------+\n",
      "\n"
     ]
    }
   ],
   "source": [
    "df10 = spark.sql(\"select a.marital,a.number/b.number from temp7 a left join temp6 b  on a.marital = b.marital\")\n",
    "df10.show()"
   ]
  },
  {
   "cell_type": "code",
   "execution_count": 13,
   "id": "a3aa2cfd",
   "metadata": {},
   "outputs": [
    {
     "name": "stdout",
     "output_type": "stream",
     "text": [
      "+---+-------+------+\n",
      "|age|marital|number|\n",
      "+---+-------+------+\n",
      "| 30| single|   151|\n",
      "| 28| single|   138|\n",
      "| 29| single|   133|\n",
      "| 32| single|   124|\n",
      "| 26| single|   121|\n",
      "| 34|married|   118|\n",
      "| 31| single|   111|\n",
      "| 27| single|   110|\n",
      "| 35|married|   101|\n",
      "| 36|married|   100|\n",
      "| 25| single|    99|\n",
      "| 37|married|    98|\n",
      "| 33|married|    97|\n",
      "| 33| single|    97|\n",
      "| 32|married|    87|\n",
      "| 39|married|    87|\n",
      "| 38|married|    86|\n",
      "| 35| single|    84|\n",
      "| 47|married|    83|\n",
      "| 46|married|    80|\n",
      "+---+-------+------+\n",
      "only showing top 20 rows\n",
      "\n"
     ]
    }
   ],
   "source": [
    " age_marital = spark.sql(\"select age,marital, count(*) as number from tempbank where y='yes' group by age,marital order by number desc\").show()\n"
   ]
  },
  {
   "cell_type": "code",
   "execution_count": null,
   "id": "776e986b",
   "metadata": {},
   "outputs": [],
   "source": []
  },
  {
   "cell_type": "code",
   "execution_count": 14,
   "id": "2fe26620",
   "metadata": {
    "scrolled": true
   },
   "outputs": [],
   "source": [
    "from pyspark.sql.functions import when\n",
    "from pyspark.sql.functions import lit\n"
   ]
  },
  {
   "cell_type": "code",
   "execution_count": 15,
   "id": "f3c81f77",
   "metadata": {},
   "outputs": [],
   "source": [
    "newdf=rawdf.withColumn(\"Newage\", \\\n",
    "   when((rawdf.age < 20), lit(\"Teenage peoples\")) \\\n",
    "     .when((rawdf.age > 20) & (rawdf.age <= 32), lit(\"Youngsters\")) \\\n",
    "     .when((rawdf.age > 33) & (rawdf.age <= 55), lit(\"Middle Aged peoples\")) \\\n",
    "     .otherwise(lit(\"Older peoples\")) \\\n",
    "  )"
   ]
  },
  {
   "cell_type": "code",
   "execution_count": 16,
   "id": "18b0b9ff",
   "metadata": {},
   "outputs": [
    {
     "name": "stdout",
     "output_type": "stream",
     "text": [
      "+---+------------+--------+---------+-------+-------+-------+----+-------+---+-----+--------+--------+-----+--------+--------+---+-------------------+\n",
      "|age|         job| marital|education|default|balance|housing|loan|contact|day|month|duration|campaign|pdays|previous|poutcome|  y|             Newage|\n",
      "+---+------------+--------+---------+-------+-------+-------+----+-------+---+-----+--------+--------+-----+--------+--------+---+-------------------+\n",
      "| 58|  management| married| tertiary|     no|   2143|    yes|  no|unknown|  5|  may|     261|       1|   -1|       0| unknown| no|      Older peoples|\n",
      "| 44|  technician|  single|secondary|     no|     29|    yes|  no|unknown|  5|  may|     151|       1|   -1|       0| unknown| no|Middle Aged peoples|\n",
      "| 33|entrepreneur| married|secondary|     no|      2|    yes| yes|unknown|  5|  may|      76|       1|   -1|       0| unknown| no|      Older peoples|\n",
      "| 47| blue-collar| married|  unknown|     no|   1506|    yes|  no|unknown|  5|  may|      92|       1|   -1|       0| unknown| no|Middle Aged peoples|\n",
      "| 33|     unknown|  single|  unknown|     no|      1|     no|  no|unknown|  5|  may|     198|       1|   -1|       0| unknown| no|      Older peoples|\n",
      "| 35|  management| married| tertiary|     no|    231|    yes|  no|unknown|  5|  may|     139|       1|   -1|       0| unknown| no|Middle Aged peoples|\n",
      "| 28|  management|  single| tertiary|     no|    447|    yes| yes|unknown|  5|  may|     217|       1|   -1|       0| unknown| no|         Youngsters|\n",
      "| 42|entrepreneur|divorced| tertiary|    yes|      2|    yes|  no|unknown|  5|  may|     380|       1|   -1|       0| unknown| no|Middle Aged peoples|\n",
      "| 58|     retired| married|  primary|     no|    121|    yes|  no|unknown|  5|  may|      50|       1|   -1|       0| unknown| no|      Older peoples|\n",
      "| 43|  technician|  single|secondary|     no|    593|    yes|  no|unknown|  5|  may|      55|       1|   -1|       0| unknown| no|Middle Aged peoples|\n",
      "| 41|      admin.|divorced|secondary|     no|    270|    yes|  no|unknown|  5|  may|     222|       1|   -1|       0| unknown| no|Middle Aged peoples|\n",
      "| 29|      admin.|  single|secondary|     no|    390|    yes|  no|unknown|  5|  may|     137|       1|   -1|       0| unknown| no|         Youngsters|\n",
      "| 53|  technician| married|secondary|     no|      6|    yes|  no|unknown|  5|  may|     517|       1|   -1|       0| unknown| no|Middle Aged peoples|\n",
      "| 58|  technician| married|  unknown|     no|     71|    yes|  no|unknown|  5|  may|      71|       1|   -1|       0| unknown| no|      Older peoples|\n",
      "| 57|    services| married|secondary|     no|    162|    yes|  no|unknown|  5|  may|     174|       1|   -1|       0| unknown| no|      Older peoples|\n",
      "| 51|     retired| married|  primary|     no|    229|    yes|  no|unknown|  5|  may|     353|       1|   -1|       0| unknown| no|Middle Aged peoples|\n",
      "| 45|      admin.|  single|  unknown|     no|     13|    yes|  no|unknown|  5|  may|      98|       1|   -1|       0| unknown| no|Middle Aged peoples|\n",
      "| 57| blue-collar| married|  primary|     no|     52|    yes|  no|unknown|  5|  may|      38|       1|   -1|       0| unknown| no|      Older peoples|\n",
      "| 60|     retired| married|  primary|     no|     60|    yes|  no|unknown|  5|  may|     219|       1|   -1|       0| unknown| no|      Older peoples|\n",
      "| 33|    services| married|secondary|     no|      0|    yes|  no|unknown|  5|  may|      54|       1|   -1|       0| unknown| no|      Older peoples|\n",
      "+---+------------+--------+---------+-------+-------+-------+----+-------+---+-----+--------+--------+-----+--------+--------+---+-------------------+\n",
      "only showing top 20 rows\n",
      "\n"
     ]
    }
   ],
   "source": [
    "newdf.show()"
   ]
  },
  {
   "cell_type": "code",
   "execution_count": 17,
   "id": "7e0dd8ef",
   "metadata": {},
   "outputs": [],
   "source": [
    "newdf.createOrReplaceTempView(\"tempbank1\")"
   ]
  },
  {
   "cell_type": "code",
   "execution_count": 19,
   "id": "634f12f8",
   "metadata": {},
   "outputs": [],
   "source": [
    "age_target_yes = spark.sql(\"select Newage, count(*) as yes_number from tempbank1 where y='yes' group by Newage order by yes_number desc \")\n",
    "age_target_yes.createTempView(\"temp3\")\n"
   ]
  },
  {
   "cell_type": "code",
   "execution_count": 21,
   "id": "334800e1",
   "metadata": {},
   "outputs": [],
   "source": [
    "age_target_no = spark.sql(\"select Newage, count(*) as No_number from tempbank1 where y='no' group by Newage order by No_number desc \")\n",
    "age_target_no.createOrReplaceTempView(\"temp4\")"
   ]
  },
  {
   "cell_type": "code",
   "execution_count": 23,
   "id": "81c15869",
   "metadata": {},
   "outputs": [
    {
     "name": "stdout",
     "output_type": "stream",
     "text": [
      "+-------------------+----------+---------+\n",
      "|             Newage|yes_number|No_number|\n",
      "+-------------------+----------+---------+\n",
      "|Middle Aged peoples|      2601|    24627|\n",
      "|         Youngsters|      1539|     9475|\n",
      "|      Older peoples|      1131|     5791|\n",
      "|    Teenage peoples|        18|       29|\n",
      "+-------------------+----------+---------+\n",
      "\n"
     ]
    }
   ],
   "source": [
    "df8 = spark.sql(\"select a.*,b.No_number from temp3 a left join temp4 b  on a.Newage = b.Newage\")\n",
    "df8.show()"
   ]
  },
  {
   "cell_type": "code",
   "execution_count": null,
   "id": "7af43208",
   "metadata": {},
   "outputs": [],
   "source": [
    "import pandas as pd\n",
    "import matplotlib.pyplot as plt\n",
    "x=df8[\"agedf\"]\n",
    "y=df8[\"yes_number\", \"No_number\"]\n",
    "\n",
    "\n",
    "\n",
    "# plot the dataframe\n",
    "plt.plot(x, y, kind=\"line\", figsize=(9, 9))\n",
    " \n",
    "# print bar graph\n",
    "plt.show()"
   ]
  },
  {
   "cell_type": "code",
   "execution_count": null,
   "id": "74f81bf0",
   "metadata": {},
   "outputs": [],
   "source": []
  },
  {
   "cell_type": "code",
   "execution_count": null,
   "id": "3f2d22e5",
   "metadata": {},
   "outputs": [],
   "source": []
  },
  {
   "cell_type": "code",
   "execution_count": null,
   "id": "30860d3d",
   "metadata": {},
   "outputs": [],
   "source": []
  },
  {
   "cell_type": "code",
   "execution_count": null,
   "id": "7f265e10",
   "metadata": {},
   "outputs": [],
   "source": []
  },
  {
   "cell_type": "code",
   "execution_count": null,
   "id": "827db3be",
   "metadata": {},
   "outputs": [],
   "source": []
  },
  {
   "cell_type": "code",
   "execution_count": null,
   "id": "4ab2216e",
   "metadata": {},
   "outputs": [],
   "source": []
  }
 ],
 "metadata": {
  "kernelspec": {
   "display_name": "Python 3 (ipykernel)",
   "language": "python",
   "name": "python3"
  },
  "language_info": {
   "codemirror_mode": {
    "name": "ipython",
    "version": 3
   },
   "file_extension": ".py",
   "mimetype": "text/x-python",
   "name": "python",
   "nbconvert_exporter": "python",
   "pygments_lexer": "ipython3",
   "version": "3.9.7"
  }
 },
 "nbformat": 4,
 "nbformat_minor": 5
}
